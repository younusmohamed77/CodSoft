{
 "cells": [
  {
   "cell_type": "markdown",
   "id": "08c99de3",
   "metadata": {},
   "source": [
    "#### MOVIE RATING PREDICTION WITH PYTHON\n",
    "- Build a model that predicts the rating of a movie based on features like genre, director, and actors. You can use regression techniques to tackle this problem.\n",
    "- The goal is to analyze historical movie data and develop a model that accurately estimates the rating given to a movie by users or critics.\n",
    "- Movie Rating Prediction project enables you to explore data analysis, preprocessing, feature engineering, and machine learning modeling techniques. It provides insights into the factors that influence movie ratings and allows you to build a model that can estimate the ratings of movies accurately.\n",
    "\n",
    "#### Dataset - https://www.kaggle.com/datasets/adrianmcmahon/imdb-india-movies"
   ]
  },
  {
   "cell_type": "markdown",
   "id": "5a51b1d6",
   "metadata": {},
   "source": [
    "##### Analysing the data and noticed some trends.\n",
    "- Year with best rating\n",
    "- Does length of movie have any impact with the rating?\n",
    "- Top 10 movies according to rating per year and overall.\n",
    "- Number of popular movies released each year.\n",
    "- Counting the number of votes which movies preformed better in rating per year and overall.\n",
    "- Which director directed the most movies\n",
    "- Which actor starred in the movie"
   ]
  },
  {
   "cell_type": "markdown",
   "id": "d8f821e8",
   "metadata": {},
   "source": [
    "### Steps\n",
    "#### Preparing the environment\n",
    "1. Importing the necessary packages and modules\n",
    "2. Reading the required files in a Data Frame\n",
    "3. Checking for duplicate values"
   ]
  },
  {
   "cell_type": "code",
   "execution_count": null,
   "id": "5ce0c599",
   "metadata": {},
   "outputs": [],
   "source": [
    "# Importing the necessary packages and modules\n",
    "\n",
    "# !pip install dtale\n",
    "\n",
    "import warnings\n",
    "warnings.filterwarnings('ignore')\n",
    "\n",
    "import dtale\n",
    "import matplotlib.pyplot as plt\n",
    "import numpy as np\n",
    "import os\n",
    "import pandas as pd\n",
    "import pickle\n",
    "import seaborn as sns\n",
    "import statsmodels.api as sm\n",
    "\n",
    "from imblearn.over_samoling import RandomOverSampler\n",
    "from numba import jit, cuda\n",
    "from pandas_profiling import ProfileReport\n",
    "from pycaret.classification import *\n",
    "from pycaret.regression import *\n"
   ]
  }
 ],
 "metadata": {
  "kernelspec": {
   "display_name": "Python 3 (ipykernel)",
   "language": "python",
   "name": "python3"
  },
  "language_info": {
   "codemirror_mode": {
    "name": "ipython",
    "version": 3
   },
   "file_extension": ".py",
   "mimetype": "text/x-python",
   "name": "python",
   "nbconvert_exporter": "python",
   "pygments_lexer": "ipython3",
   "version": "3.11.5"
  }
 },
 "nbformat": 4,
 "nbformat_minor": 5
}
